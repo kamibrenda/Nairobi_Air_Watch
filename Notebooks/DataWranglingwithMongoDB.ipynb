{
 "cells": [
  {
   "cell_type": "markdown",
   "id": "017391ca-e9ff-4f4c-952a-bc5587bf6ad0",
   "metadata": {},
   "source": [
    "## Importing libraries"
   ]
  },
  {
   "cell_type": "code",
   "execution_count": 14,
   "id": "19124457-6c99-45aa-ac72-8aaffb707beb",
   "metadata": {
    "tags": []
   },
   "outputs": [],
   "source": [
    "#pip install pymongo"
   ]
  },
  {
   "cell_type": "code",
   "execution_count": 2,
   "id": "c07b8af1-0aba-404b-bb32-ed257d04b5b8",
   "metadata": {
    "tags": []
   },
   "outputs": [],
   "source": [
    "import pandas as pd\n",
    "from pymongo import MongoClient\n",
    "from sys import getsizeof\n",
    "from pprint import PrettyPrinter \n",
    "from bs4 import BeautifulSoup\n",
    "from urllib.request import urlopen\n",
    "import requests"
   ]
  },
  {
   "cell_type": "code",
   "execution_count": 16,
   "id": "38e2d358-0cab-42d0-80a4-10cb1454095f",
   "metadata": {},
   "outputs": [],
   "source": [
    "pp = PrettyPrinter(indent=2)"
   ]
  },
  {
   "cell_type": "code",
   "execution_count": 17,
   "id": "dd692d27-e6bc-4964-aed2-902f8c0ef1fa",
   "metadata": {
    "tags": []
   },
   "outputs": [],
   "source": [
    "client = MongoClient(host=\"localhost\", port=27017)"
   ]
  },
  {
   "cell_type": "code",
   "execution_count": 18,
   "id": "75a8c5d9-fdf7-4a08-8bab-38799d014969",
   "metadata": {
    "tags": []
   },
   "outputs": [
    {
     "data": {
      "text/plain": [
       "<pymongo.command_cursor.CommandCursor at 0x22fda0bc910>"
      ]
     },
     "execution_count": 18,
     "metadata": {},
     "output_type": "execute_result"
    }
   ],
   "source": [
    "#list databases\n",
    "client.list_databases()"
   ]
  },
  {
   "cell_type": "code",
   "execution_count": 19,
   "id": "51349ed1-38a1-4348-a194-19b00ef6976a",
   "metadata": {
    "tags": []
   },
   "outputs": [
    {
     "name": "stdout",
     "output_type": "stream",
     "text": [
      "0\n",
      "1\n",
      "2\n",
      "3\n",
      "4\n",
      "5\n",
      "6\n",
      "7\n",
      "8\n",
      "9\n",
      "10\n",
      "11\n",
      "12\n",
      "13\n",
      "14\n"
     ]
    }
   ],
   "source": [
    "my_list = [0, 1, 2, 3, 4, 5, 6, 7, 8]\n",
    "my_range = range(0,15) #iterater\n",
    "\n",
    "for i in my_range:\n",
    "    print(i)"
   ]
  },
  {
   "cell_type": "code",
   "execution_count": 20,
   "id": "d2b70458-154b-4a95-84b1-916ca0ff906b",
   "metadata": {
    "tags": []
   },
   "outputs": [
    {
     "data": {
      "text/plain": [
       "48"
      ]
     },
     "execution_count": 20,
     "metadata": {},
     "output_type": "execute_result"
    }
   ],
   "source": [
    "getsizeof(my_range)"
   ]
  },
  {
   "cell_type": "code",
   "execution_count": 21,
   "id": "b290d868-3a2d-4dc8-91d1-dbea2d3b2af5",
   "metadata": {
    "tags": []
   },
   "outputs": [
    {
     "name": "stdout",
     "output_type": "stream",
     "text": [
      "[ {'empty': False, 'name': 'admin', 'sizeOnDisk': 40960},\n",
      "  {'empty': False, 'name': 'config', 'sizeOnDisk': 73728},\n",
      "  {'empty': False, 'name': 'local', 'sizeOnDisk': 73728}]\n"
     ]
    }
   ],
   "source": [
    "pp.pprint(list(client.list_databases()))"
   ]
  },
  {
   "cell_type": "markdown",
   "id": "d7822efe-8226-4edc-9dc7-684c7c3630ba",
   "metadata": {},
   "source": [
    "## Web Scrapping with Py to the data source"
   ]
  },
  {
   "cell_type": "code",
   "execution_count": 22,
   "id": "8c3ab0d2-f3fd-45c9-b5fc-d078d138281e",
   "metadata": {
    "tags": []
   },
   "outputs": [],
   "source": [
    "url = 'https://africaopendata.org/dataset/sensorsafrica-airquality-archive-dar-es-salaam'\n",
    "page = requests.get(url)\n",
    "soup = BeautifulSoup(page.text, 'html')"
   ]
  },
  {
   "cell_type": "code",
   "execution_count": null,
   "id": "8c686025-bcf3-4ca5-af81-0886d2463e85",
   "metadata": {
    "tags": []
   },
   "outputs": [],
   "source": [
    "print(soup)"
   ]
  },
  {
   "cell_type": "code",
   "execution_count": 24,
   "id": "26740534-9839-4849-be33-38c498af8082",
   "metadata": {
    "tags": []
   },
   "outputs": [
    {
     "name": "stdout",
     "output_type": "stream",
     "text": [
      "{\n",
      "  \"@context\": {\n",
      "    \"adms\": \"http://www.w3.org/ns/adms#\",\n",
      "    \"dcat\": \"http://www.w3.org/ns/dcat#\",\n",
      "    \"dct\": \"http://purl.org/dc/terms/\",\n",
      "    \"foaf\": \"http://xmlns.com/foaf/0.1/\",\n",
      "    \"gsp\": \"http://www.opengis.net/ont/geosparql#\",\n",
      "    \"locn\": \"http://www.w3.org/ns/locn#\",\n",
      "    \"owl\": \"http://www.w3.org/2002/07/owl#\",\n",
      "    \"rdf\": \"http://www.w3.org/1999/02/22-rdf-syntax-ns#\",\n",
      "    \"rdfs\": \"http://www.w3.org/2000/01/rdf-schema#\",\n",
      "    \"schema\": \"http://schema.org/\",\n",
      "    \"skos\": \"http://www.w3.org/2004/02/skos/core#\",\n",
      "    \"spdx\": \"http://spdx.org/rdf/terms#\",\n",
      "    \"time\": \"http://www.w3.org/2006/time\",\n",
      "    \"vcard\": \"http://www.w3.org/2006/vcard/ns#\",\n",
      "    \"xsd\": \"http://www.w3.org/2001/XMLSchema#\"\n",
      "  },\n",
      "  \"@graph\": [\n",
      "    {\n",
      "      \"@id\": \"https://openafrica.net/dataset/b2c156b9-2f59-4673-9aaf-02ddda3a3866/resource/fa86f84b-97c1-40f4-9a61-400c80b22306\",\n",
      "      \"@type\": \"dcat:Distribution\",\n",
      "      \"dcat:accessURL\": {\n",
      "        \"@id\": \"https://openafrica.net/dataset/b2c156b9-2f59-4673-9aaf-02ddda3a3866/resource/fa86f84b-97c1-40f4-9a61-400c80b22306/download/january_2019_sensor_data_archive.csv\"\n",
      "      },\n",
      "      \"dct:format\": \"CSV\",\n",
      "      \"dct:title\": \"January 2019 Sensor Data Archive\"\n",
      "    },\n",
      "    {\n",
      "      \"@id\": \"_:Ndbf883b9f6ee4b46b90aadadf8481a3d\",\n",
      "      \"@type\": \"vcard:Organization\",\n",
      "      \"vcard:fn\": \"usman\",\n",
      "      \"vcard:hasEmail\": {\n",
      "        \"@id\": \"mailto:usman@codeforafrica.org\"\n",
      "      }\n",
      "    },\n",
      "    {\n",
      "      \"@id\": \"https://openafrica.net/dataset/b2c156b9-2f59-4673-9aaf-02ddda3a3866/resource/b140f15f-ab95-4a4f-bd7b-f83d66d84c89\",\n",
      "      \"@type\": \"dcat:Distribution\",\n",
      "      \"dcat:accessURL\": {\n",
      "        \"@id\": \"https://openafrica.net/dataset/b2c156b9-2f59-4673-9aaf-02ddda3a3866/resource/b140f15f-ab95-4a4f-bd7b-f83d66d84c89/download/november_2017_sensor_data_archive.csv\"\n",
      "      },\n",
      "      \"dct:format\": \"CSV\",\n",
      "      \"dct:title\": \"November 2017 Sensor Data Archive\"\n",
      "    },\n",
      "    {\n",
      "      \"@id\": \"https://openafrica.net/dataset/b2c156b9-2f59-4673-9aaf-02ddda3a3866/resource/df4b214a-1b59-46f9-a832-3119861f2e91\",\n",
      "      \"@type\": \"dcat:Distribution\",\n",
      "      \"dcat:accessURL\": {\n",
      "        \"@id\": \"https://openafrica.net/dataset/b2c156b9-2f59-4673-9aaf-02ddda3a3866/resource/df4b214a-1b59-46f9-a832-3119861f2e91/download/april_2019_sensor_data_archive.csv\"\n",
      "      },\n",
      "      \"dct:format\": \"CSV\",\n",
      "      \"dct:title\": \"April 2019 Sensor Data Archive\"\n",
      "    },\n",
      "    {\n",
      "      \"@id\": \"https://openafrica.net/dataset/b2c156b9-2f59-4673-9aaf-02ddda3a3866/resource/e9930440-0c3a-4e95-8948-e8e142bf305f\",\n",
      "      \"@type\": \"dcat:Distribution\",\n",
      "      \"dcat:accessURL\": {\n",
      "        \"@id\": \"https://openafrica.net/dataset/b2c156b9-2f59-4673-9aaf-02ddda3a3866/resource/e9930440-0c3a-4e95-8948-e8e142bf305f/download/march_2019_sensor_data_archive.csv\"\n",
      "      },\n",
      "      \"dct:format\": \"CSV\",\n",
      "      \"dct:title\": \"March 2019 Sensor Data Archive\"\n",
      "    },\n",
      "    {\n",
      "      \"@id\": \"https://openafrica.net/dataset/b2c156b9-2f59-4673-9aaf-02ddda3a3866/resource/f36663c3-605e-42e9-b80d-9b5ce479dae4\",\n",
      "      \"@type\": \"dcat:Distribution\",\n",
      "      \"dcat:accessURL\": {\n",
      "        \"@id\": \"https://openafrica.net/dataset/b2c156b9-2f59-4673-9aaf-02ddda3a3866/resource/f36663c3-605e-42e9-b80d-9b5ce479dae4/download/october_2017_sensor_data_archive.csv\"\n",
      "      },\n",
      "      \"dct:format\": \"CSV\",\n",
      "      \"dct:title\": \"October 2017 Sensor Data Archive\"\n",
      "    },\n",
      "    {\n",
      "      \"@id\": \"https://openafrica.net/dataset/b2c156b9-2f59-4673-9aaf-02ddda3a3866/resource/26037925-8e92-4c9b-ae3e-68c1c5a779c3\",\n",
      "      \"@type\": \"dcat:Distribution\",\n",
      "      \"dcat:accessURL\": {\n",
      "        \"@id\": \"https://openafrica.net/dataset/b2c156b9-2f59-4673-9aaf-02ddda3a3866/resource/26037925-8e92-4c9b-ae3e-68c1c5a779c3/download/march_2018_sensor_data_archive.csv\"\n",
      "      },\n",
      "      \"dct:format\": \"CSV\",\n",
      "      \"dct:title\": \"March 2018 Sensor Data Archive\"\n",
      "    },\n",
      "    {\n",
      "      \"@id\": \"https://openafrica.net/dataset/b2c156b9-2f59-4673-9aaf-02ddda3a3866/resource/0a46210a-76b8-4180-ac7c-3462c0dc7609\",\n",
      "      \"@type\": \"dcat:Distribution\",\n",
      "      \"dcat:accessURL\": {\n",
      "        \"@id\": \"https://openafrica.net/dataset/b2c156b9-2f59-4673-9aaf-02ddda3a3866/resource/0a46210a-76b8-4180-ac7c-3462c0dc7609/download/june_2018_sensor_data_archive.csv\"\n",
      "      },\n",
      "      \"dct:format\": \"CSV\",\n",
      "      \"dct:title\": \"June 2018 Sensor Data Archive\"\n",
      "    },\n",
      "    {\n",
      "      \"@id\": \"https://openafrica.net/dataset/b2c156b9-2f59-4673-9aaf-02ddda3a3866/resource/fee1a1f9-4a88-4b93-be35-6367d37ca388\",\n",
      "      \"@type\": \"dcat:Distribution\",\n",
      "      \"dcat:accessURL\": {\n",
      "        \"@id\": \"https://openafrica.net/dataset/b2c156b9-2f59-4673-9aaf-02ddda3a3866/resource/fee1a1f9-4a88-4b93-be35-6367d37ca388/download/february_2018_sensor_data_archive.csv\"\n",
      "      },\n",
      "      \"dct:format\": \"CSV\",\n",
      "      \"dct:title\": \"February 2018 Sensor Data Archive\"\n",
      "    },\n",
      "    {\n",
      "      \"@id\": \"https://openafrica.net/dataset/b2c156b9-2f59-4673-9aaf-02ddda3a3866/resource/ad5db7a8-a5ea-47dc-a2a2-0714c480927b\",\n",
      "      \"@type\": \"dcat:Distribution\",\n",
      "      \"dcat:accessURL\": {\n",
      "        \"@id\": \"https://openafrica.net/dataset/b2c156b9-2f59-4673-9aaf-02ddda3a3866/resource/ad5db7a8-a5ea-47dc-a2a2-0714c480927b/download/june_2019_sensor_data_archive.csv\"\n",
      "      },\n",
      "      \"dct:format\": \"CSV\",\n",
      "      \"dct:title\": \"June 2019 Sensor Data Archive\"\n",
      "    },\n",
      "    {\n",
      "      \"@id\": \"https://openafrica.net/dataset/b2c156b9-2f59-4673-9aaf-02ddda3a3866/resource/fc84d9fd-0032-4d88-9511-34c37848dddd\",\n",
      "      \"@type\": \"dcat:Distribution\",\n",
      "      \"dcat:accessURL\": {\n",
      "        \"@id\": \"https://openafrica.net/dataset/b2c156b9-2f59-4673-9aaf-02ddda3a3866/resource/fc84d9fd-0032-4d88-9511-34c37848dddd/download/april_2018_sensor_data_archive.csv\"\n",
      "      },\n",
      "      \"dct:format\": \"CSV\",\n",
      "      \"dct:title\": \"April 2018 Sensor Data Archive\"\n",
      "    },\n",
      "    {\n",
      "      \"@id\": \"https://openafrica.net/dataset/b2c156b9-2f59-4673-9aaf-02ddda3a3866/resource/31a38b4f-19cc-4a37-8075-02e69a70078d\",\n",
      "      \"@type\": \"dcat:Distribution\",\n",
      "      \"dcat:accessURL\": {\n",
      "        \"@id\": \"https://openafrica.net/dataset/b2c156b9-2f59-4673-9aaf-02ddda3a3866/resource/31a38b4f-19cc-4a37-8075-02e69a70078d/download/january_2018_sensor_data_archive.csv\"\n",
      "      },\n",
      "      \"dct:format\": \"CSV\",\n",
      "      \"dct:title\": \"January 2018 Sensor Data Archive\"\n",
      "    },\n",
      "    {\n",
      "      \"@id\": \"https://openafrica.net/dataset/b2c156b9-2f59-4673-9aaf-02ddda3a3866/resource/b1b6c937-4dda-4245-b99c-6129622cc3e3\",\n",
      "      \"@type\": \"dcat:Distribution\",\n",
      "      \"dcat:accessURL\": {\n",
      "        \"@id\": \"https://openafrica.net/dataset/b2c156b9-2f59-4673-9aaf-02ddda3a3866/resource/b1b6c937-4dda-4245-b99c-6129622cc3e3/download/may_2018_sensor_data_archive.csv\"\n",
      "      },\n",
      "      \"dct:format\": \"CSV\",\n",
      "      \"dct:title\": \"May 2018 Sensor Data Archive\"\n",
      "    },\n",
      "    {\n",
      "      \"@id\": \"https://openafrica.net/dataset/b2c156b9-2f59-4673-9aaf-02ddda3a3866/resource/80d1bce7-437b-4dc1-8d78-887f9540ffbe\",\n",
      "      \"@type\": \"dcat:Distribution\",\n",
      "      \"dcat:accessURL\": {\n",
      "        \"@id\": \"https://openafrica.net/dataset/b2c156b9-2f59-4673-9aaf-02ddda3a3866/resource/80d1bce7-437b-4dc1-8d78-887f9540ffbe/download/december_2018_sensor_data_archive.csv\"\n",
      "      },\n",
      "      \"dct:format\": \"CSV\",\n",
      "      \"dct:title\": \"December 2018 Sensor Data Archive\"\n",
      "    },\n",
      "    {\n",
      "      \"@id\": \"https://openafrica.net/dataset/b2c156b9-2f59-4673-9aaf-02ddda3a3866/resource/c5f65e78-cdef-421a-bef0-935bc9678e5d\",\n",
      "      \"@type\": \"dcat:Distribution\",\n",
      "      \"dcat:accessURL\": {\n",
      "        \"@id\": \"https://openafrica.net/dataset/b2c156b9-2f59-4673-9aaf-02ddda3a3866/resource/c5f65e78-cdef-421a-bef0-935bc9678e5d/download/december_2017_sensor_data_archive.csv\"\n",
      "      },\n",
      "      \"dct:format\": \"CSV\",\n",
      "      \"dct:title\": \"December 2017 Sensor Data Archive\"\n",
      "    },\n",
      "    {\n",
      "      \"@id\": \"https://openafrica.net/dataset/b2c156b9-2f59-4673-9aaf-02ddda3a3866/resource/f43ae933-abcc-4a02-89fa-6c5a30ca8b66\",\n",
      "      \"@type\": \"dcat:Distribution\",\n",
      "      \"dcat:accessURL\": {\n",
      "        \"@id\": \"https://openafrica.net/dataset/b2c156b9-2f59-4673-9aaf-02ddda3a3866/resource/f43ae933-abcc-4a02-89fa-6c5a30ca8b66/download/july_2018_sensor_data_archive.csv\"\n",
      "      },\n",
      "      \"dct:format\": \"CSV\",\n",
      "      \"dct:title\": \"July 2018 Sensor Data Archive\"\n",
      "    },\n",
      "    {\n",
      "      \"@id\": \"https://openafrica.net/dataset/b2c156b9-2f59-4673-9aaf-02ddda3a3866/resource/723261bd-6412-4215-b94c-6f19c0c80bea\",\n",
      "      \"@type\": \"dcat:Distribution\",\n",
      "      \"dcat:accessURL\": {\n",
      "        \"@id\": \"https://openafrica.net/dataset/b2c156b9-2f59-4673-9aaf-02ddda3a3866/resource/723261bd-6412-4215-b94c-6f19c0c80bea/download/tmpn8ewekn4.csv\"\n",
      "      },\n",
      "      \"dct:format\": \"CSV\",\n",
      "      \"dct:title\": \"August 2019 Sensor Data Archive\"\n",
      "    },\n",
      "    {\n",
      "      \"@id\": \"https://openafrica.net/dataset/b2c156b9-2f59-4673-9aaf-02ddda3a3866/resource/d4d7ec6f-7ddf-47b7-a2ef-ac422eab6d9f\",\n",
      "      \"@type\": \"dcat:Distribution\",\n",
      "      \"dcat:accessURL\": {\n",
      "        \"@id\": \"https://openafrica.net/dataset/b2c156b9-2f59-4673-9aaf-02ddda3a3866/resource/d4d7ec6f-7ddf-47b7-a2ef-ac422eab6d9f/download/september_2018_sensor_data_archive.csv\"\n",
      "      },\n",
      "      \"dct:format\": \"CSV\",\n",
      "      \"dct:title\": \"September 2018 Sensor Data Archive\"\n",
      "    },\n",
      "    {\n",
      "      \"@id\": \"https://openafrica.net/dataset/b2c156b9-2f59-4673-9aaf-02ddda3a3866\",\n",
      "      \"@type\": \"dcat:Dataset\",\n",
      "      \"dcat:contactPoint\": {\n",
      "        \"@id\": \"_:Ndbf883b9f6ee4b46b90aadadf8481a3d\"\n",
      "      },\n",
      "      \"dcat:distribution\": [\n",
      "        {\n",
      "          \"@id\": \"https://openafrica.net/dataset/b2c156b9-2f59-4673-9aaf-02ddda3a3866/resource/e9930440-0c3a-4e95-8948-e8e142bf305f\"\n",
      "        },\n",
      "        {\n",
      "          \"@id\": \"https://openafrica.net/dataset/b2c156b9-2f59-4673-9aaf-02ddda3a3866/resource/b1b6c937-4dda-4245-b99c-6129622cc3e3\"\n",
      "        },\n",
      "        {\n",
      "          \"@id\": \"https://openafrica.net/dataset/b2c156b9-2f59-4673-9aaf-02ddda3a3866/resource/df4b214a-1b59-46f9-a832-3119861f2e91\"\n",
      "        },\n",
      "        {\n",
      "          \"@id\": \"https://openafrica.net/dataset/b2c156b9-2f59-4673-9aaf-02ddda3a3866/resource/723261bd-6412-4215-b94c-6f19c0c80bea\"\n",
      "        },\n",
      "        {\n",
      "          \"@id\": \"https://openafrica.net/dataset/b2c156b9-2f59-4673-9aaf-02ddda3a3866/resource/d4d7ec6f-7ddf-47b7-a2ef-ac422eab6d9f\"\n",
      "        },\n",
      "        {\n",
      "          \"@id\": \"https://openafrica.net/dataset/b2c156b9-2f59-4673-9aaf-02ddda3a3866/resource/fa86f84b-97c1-40f4-9a61-400c80b22306\"\n",
      "        },\n",
      "        {\n",
      "          \"@id\": \"https://openafrica.net/dataset/b2c156b9-2f59-4673-9aaf-02ddda3a3866/resource/ad5db7a8-a5ea-47dc-a2a2-0714c480927b\"\n",
      "        },\n",
      "        {\n",
      "          \"@id\": \"https://openafrica.net/dataset/b2c156b9-2f59-4673-9aaf-02ddda3a3866/resource/80d1bce7-437b-4dc1-8d78-887f9540ffbe\"\n",
      "        },\n",
      "        {\n",
      "          \"@id\": \"https://openafrica.net/dataset/b2c156b9-2f59-4673-9aaf-02ddda3a3866/resource/41b95ba3-797b-4b48-a0bb-76322faa4bca\"\n",
      "        },\n",
      "        {\n",
      "          \"@id\": \"https://openafrica.net/dataset/b2c156b9-2f59-4673-9aaf-02ddda3a3866/resource/c5f65e78-cdef-421a-bef0-935bc9678e5d\"\n",
      "        },\n",
      "        {\n",
      "          \"@id\": \"https://openafrica.net/dataset/b2c156b9-2f59-4673-9aaf-02ddda3a3866/resource/82454ab8-b0ca-4c5e-9a59-4da49141da87\"\n",
      "        },\n",
      "        {\n",
      "          \"@id\": \"https://openafrica.net/dataset/b2c156b9-2f59-4673-9aaf-02ddda3a3866/resource/f43ae933-abcc-4a02-89fa-6c5a30ca8b66\"\n",
      "        },\n",
      "        {\n",
      "          \"@id\": \"https://openafrica.net/dataset/b2c156b9-2f59-4673-9aaf-02ddda3a3866/resource/eaae4880-89b9-4711-a9f0-deadf933ba23\"\n",
      "        },\n",
      "        {\n",
      "          \"@id\": \"https://openafrica.net/dataset/b2c156b9-2f59-4673-9aaf-02ddda3a3866/resource/31a38b4f-19cc-4a37-8075-02e69a70078d\"\n",
      "        },\n",
      "        {\n",
      "          \"@id\": \"https://openafrica.net/dataset/b2c156b9-2f59-4673-9aaf-02ddda3a3866/resource/f36663c3-605e-42e9-b80d-9b5ce479dae4\"\n",
      "        },\n",
      "        {\n",
      "          \"@id\": \"https://openafrica.net/dataset/b2c156b9-2f59-4673-9aaf-02ddda3a3866/resource/fee1a1f9-4a88-4b93-be35-6367d37ca388\"\n",
      "        },\n",
      "        {\n",
      "          \"@id\": \"https://openafrica.net/dataset/b2c156b9-2f59-4673-9aaf-02ddda3a3866/resource/26037925-8e92-4c9b-ae3e-68c1c5a779c3\"\n",
      "        },\n",
      "        {\n",
      "          \"@id\": \"https://openafrica.net/dataset/b2c156b9-2f59-4673-9aaf-02ddda3a3866/resource/fc84d9fd-0032-4d88-9511-34c37848dddd\"\n",
      "        },\n",
      "        {\n",
      "          \"@id\": \"https://openafrica.net/dataset/b2c156b9-2f59-4673-9aaf-02ddda3a3866/resource/5d17222e-08b3-4f6b-9888-32db859405cd\"\n",
      "        },\n",
      "        {\n",
      "          \"@id\": \"https://openafrica.net/dataset/b2c156b9-2f59-4673-9aaf-02ddda3a3866/resource/b140f15f-ab95-4a4f-bd7b-f83d66d84c89\"\n",
      "        },\n",
      "        {\n",
      "          \"@id\": \"https://openafrica.net/dataset/b2c156b9-2f59-4673-9aaf-02ddda3a3866/resource/0a46210a-76b8-4180-ac7c-3462c0dc7609\"\n",
      "        },\n",
      "        {\n",
      "          \"@id\": \"https://openafrica.net/dataset/b2c156b9-2f59-4673-9aaf-02ddda3a3866/resource/1e7aa84a-5793-4a7e-87ae-d02fbf7a27ec\"\n",
      "        }\n",
      "      ],\n",
      "      \"dct:description\": \"This data set contains PM (particulate matter), temperature, and humidity readings taken with low-cost sensors. These sensors measure the concentration of PM in the air, including particles with diameters less than or equal to 1 micrometer (PM1), 2.5 micrometers (PM2.5), and particles with diameters less than or equal to 10 micrometers (PM10).\\r\\nThe data set includes information on the sensor type, date, time, and location of the readings, as well as the sensorâ€™s specific measurement values for Temperature (C), Humidity (%), PM1,  PM2.5, and PM10. The data set is ideal for researchers and individuals interested in studying air quality and low-cost sensors in PM measurement.\\r\\nThe dataset is stored in CSV format and can be opened using editors like Microsoft Excel, Google Sheets, LibreOffice Calc, etc.\\r\\nNote that P0 in the data represents PM1, P2 represents PM2.5, and P1 represents PM10\",\n",
      "      \"dct:identifier\": \"b2c156b9-2f59-4673-9aaf-02ddda3a3866\",\n",
      "      \"dct:issued\": {\n",
      "        \"@type\": \"xsd:dateTime\",\n",
      "        \"@value\": \"2019-02-14T08:43:57.142920\"\n",
      "      },\n",
      "      \"dct:modified\": {\n",
      "        \"@type\": \"xsd:dateTime\",\n",
      "        \"@value\": \"2024-02-15T12:08:25.174496\"\n",
      "      },\n",
      "      \"dct:publisher\": {\n",
      "        \"@id\": \"https://openafrica.net/organization/5f41c149-df90-493a-9502-7e31b0818aa5\"\n",
      "      },\n",
      "      \"dct:title\": \"sensors.AFRICA Air Quality Archive Dar es Salaam\"\n",
      "    },\n",
      "    {\n",
      "      \"@id\": \"https://openafrica.net/dataset/b2c156b9-2f59-4673-9aaf-02ddda3a3866/resource/5d17222e-08b3-4f6b-9888-32db859405cd\",\n",
      "      \"@type\": \"dcat:Distribution\",\n",
      "      \"dcat:accessURL\": {\n",
      "        \"@id\": \"https://openafrica.net/dataset/b2c156b9-2f59-4673-9aaf-02ddda3a3866/resource/5d17222e-08b3-4f6b-9888-32db859405cd/download/august_2018_sensor_data_archive.csv\"\n",
      "      },\n",
      "      \"dct:format\": \"CSV\",\n",
      "      \"dct:title\": \"August 2018 Sensor Data Archive\"\n",
      "    },\n",
      "    {\n",
      "      \"@id\": \"https://openafrica.net/dataset/b2c156b9-2f59-4673-9aaf-02ddda3a3866/resource/eaae4880-89b9-4711-a9f0-deadf933ba23\",\n",
      "      \"@type\": \"dcat:Distribution\",\n",
      "      \"dcat:accessURL\": {\n",
      "        \"@id\": \"https://openafrica.net/dataset/b2c156b9-2f59-4673-9aaf-02ddda3a3866/resource/eaae4880-89b9-4711-a9f0-deadf933ba23/download/november_2018_sensor_data_archive.csv\"\n",
      "      },\n",
      "      \"dct:format\": \"CSV\",\n",
      "      \"dct:title\": \"November 2018 Sensor Data Archive\"\n",
      "    },\n",
      "    {\n",
      "      \"@id\": \"https://openafrica.net/dataset/b2c156b9-2f59-4673-9aaf-02ddda3a3866/resource/1e7aa84a-5793-4a7e-87ae-d02fbf7a27ec\",\n",
      "      \"@type\": \"dcat:Distribution\",\n",
      "      \"dcat:accessURL\": {\n",
      "        \"@id\": \"https://openafrica.net/dataset/b2c156b9-2f59-4673-9aaf-02ddda3a3866/resource/1e7aa84a-5793-4a7e-87ae-d02fbf7a27ec/download/february_2019_sensor_data_archive.csv\"\n",
      "      },\n",
      "      \"dct:format\": \"CSV\",\n",
      "      \"dct:title\": \"February 2019 Sensor Data Archive\"\n",
      "    },\n",
      "    {\n",
      "      \"@id\": \"https://openafrica.net/dataset/b2c156b9-2f59-4673-9aaf-02ddda3a3866/resource/82454ab8-b0ca-4c5e-9a59-4da49141da87\",\n",
      "      \"@type\": \"dcat:Distribution\",\n",
      "      \"dcat:accessURL\": {\n",
      "        \"@id\": \"https://openafrica.net/dataset/b2c156b9-2f59-4673-9aaf-02ddda3a3866/resource/82454ab8-b0ca-4c5e-9a59-4da49141da87/download/may_2019_sensor_data_archive.csv\"\n",
      "      },\n",
      "      \"dct:format\": \"CSV\",\n",
      "      \"dct:title\": \"May 2019 Sensor Data Archive\"\n",
      "    },\n",
      "    {\n",
      "      \"@id\": \"https://openafrica.net/dataset/b2c156b9-2f59-4673-9aaf-02ddda3a3866/resource/41b95ba3-797b-4b48-a0bb-76322faa4bca\",\n",
      "      \"@type\": \"dcat:Distribution\",\n",
      "      \"dcat:accessURL\": {\n",
      "        \"@id\": \"https://openafrica.net/dataset/b2c156b9-2f59-4673-9aaf-02ddda3a3866/resource/41b95ba3-797b-4b48-a0bb-76322faa4bca/download/october_2018_sensor_data_archive.csv\"\n",
      "      },\n",
      "      \"dct:format\": \"CSV\",\n",
      "      \"dct:title\": \"October 2018 Sensor Data Archive\"\n",
      "    },\n",
      "    {\n",
      "      \"@id\": \"https://openafrica.net/organization/5f41c149-df90-493a-9502-7e31b0818aa5\",\n",
      "      \"@type\": \"foaf:Organization\",\n",
      "      \"foaf:name\": \"sensors.AFRICA\"\n",
      "    }\n",
      "  ]\n",
      "}\n"
     ]
    }
   ],
   "source": [
    "#Alt 2- specification of the location of the 22 datasets\n",
    "html = urlopen('https://openafrica.net/dataset/b2c156b9-2f59-4673-9aaf-02ddda3a3866.jsonld')\n",
    "bs = BeautifulSoup(html.read(), 'html.parser')\n",
    "print(bs)"
   ]
  },
  {
   "cell_type": "code",
   "execution_count": null,
   "id": "dac97109-adb3-45b6-8e74-5dc8969eafa6",
   "metadata": {
    "tags": []
   },
   "outputs": [],
   "source": [
    "resource_items = soup.find_all('li', id  == '736d3166-3f10-401e-9c00-884c4f5ed3fb')\n",
    "for item in resource_items:\n",
    "        # Print or process each item as needed\n",
    "        print(item)\n",
    "        \n"
   ]
  },
  {
   "cell_type": "code",
   "execution_count": 13,
   "id": "82a09ea5-c398-48e7-a5fa-a514df9038db",
   "metadata": {},
   "outputs": [],
   "source": [
    "datasets = bs.findAll('li', {'class':'resource-item'})\n",
    "\n",
    "for data in datasets:\n",
    "    print(data.get_text())"
   ]
  },
  {
   "cell_type": "code",
   "execution_count": 29,
   "id": "0fcc336a-d875-4aa6-bd36-69c5bc02a420",
   "metadata": {
    "tags": []
   },
   "outputs": [
    {
     "name": "stdout",
     "output_type": "stream",
     "text": [
      "0\n"
     ]
    },
    {
     "name": "stderr",
     "output_type": "stream",
     "text": [
      "C:\\Users\\admin\\AppData\\Local\\Temp\\ipykernel_13660\\313148670.py:1: DeprecationWarning: The 'text' argument to find()-type methods is deprecated. Use 'string' instead.\n",
      "  datalist = bs.find_all(text='data-id')\n"
     ]
    }
   ],
   "source": [
    "datalist = bs.find_all(text='data-id')\n",
    "print(len(datalist))"
   ]
  },
  {
   "cell_type": "code",
   "execution_count": 3,
   "id": "6d4cd3ff-7a4f-4f1e-bbbc-6173fcff89bb",
   "metadata": {},
   "outputs": [
    {
     "ename": "NameError",
     "evalue": "name 'soup' is not defined",
     "output_type": "error",
     "traceback": [
      "\u001b[1;31m---------------------------------------------------------------------------\u001b[0m",
      "\u001b[1;31mNameError\u001b[0m                                 Traceback (most recent call last)",
      "Cell \u001b[1;32mIn[3], line 1\u001b[0m\n\u001b[1;32m----> 1\u001b[0m dataset_links \u001b[38;5;241m=\u001b[39m \u001b[43msoup\u001b[49m\u001b[38;5;241m.\u001b[39mfind_all(\u001b[38;5;124m'\u001b[39m\u001b[38;5;124ma\u001b[39m\u001b[38;5;124m'\u001b[39m, href\u001b[38;5;241m=\u001b[39m\u001b[38;5;28;01mTrue\u001b[39;00m) \n\u001b[0;32m      2\u001b[0m \u001b[38;5;66;03m# Extract the links\u001b[39;00m\n\u001b[0;32m      3\u001b[0m \u001b[38;5;28;01mfor\u001b[39;00m link \u001b[38;5;129;01min\u001b[39;00m dataset_links:\n",
      "\u001b[1;31mNameError\u001b[0m: name 'soup' is not defined"
     ]
    }
   ],
   "source": [
    "dataset_links = soup.find_all('a', href=True) \n",
    "# Extract the links\n",
    "for link in dataset_links:\n",
    "    print(link['href'])"
   ]
  },
  {
   "cell_type": "code",
   "execution_count": null,
   "id": "3ae1e3a4-561b-4170-a43e-ea2cec074ce0",
   "metadata": {},
   "outputs": [],
   "source": []
  }
 ],
 "metadata": {
  "kernelspec": {
   "display_name": "Python 3 (ipykernel)",
   "language": "python",
   "name": "python3"
  },
  "language_info": {
   "codemirror_mode": {
    "name": "ipython",
    "version": 3
   },
   "file_extension": ".py",
   "mimetype": "text/x-python",
   "name": "python",
   "nbconvert_exporter": "python",
   "pygments_lexer": "ipython3",
   "version": "3.11.3"
  }
 },
 "nbformat": 4,
 "nbformat_minor": 5
}
