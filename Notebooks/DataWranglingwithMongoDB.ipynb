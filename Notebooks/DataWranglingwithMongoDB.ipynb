{
 "cells": [
  {
   "cell_type": "markdown",
   "id": "017391ca-e9ff-4f4c-952a-bc5587bf6ad0",
   "metadata": {},
   "source": [
    "## Importing libraries"
   ]
  },
  {
   "cell_type": "code",
   "execution_count": 1,
   "id": "19124457-6c99-45aa-ac72-8aaffb707beb",
   "metadata": {
    "tags": []
   },
   "outputs": [
    {
     "name": "stdout",
     "output_type": "stream",
     "text": [
      "Collecting pymongo\n",
      "  Downloading pymongo-4.6.1-cp311-cp311-win_amd64.whl (472 kB)\n",
      "                                              0.0/472.7 kB ? eta -:--:--\n",
      "     --                                       30.7/472.7 kB ? eta -:--:--\n",
      "     ---------                              112.6/472.7 kB 1.1 MB/s eta 0:00:01\n",
      "     ---------                              112.6/472.7 kB 1.1 MB/s eta 0:00:01\n",
      "     ---------                              112.6/472.7 kB 1.1 MB/s eta 0:00:01\n",
      "     ---------                              112.6/472.7 kB 1.1 MB/s eta 0:00:01\n",
      "     ---------                              112.6/472.7 kB 1.1 MB/s eta 0:00:01\n",
      "     ---------                              112.6/472.7 kB 1.1 MB/s eta 0:00:01\n",
      "     ----------                           143.4/472.7 kB 370.8 kB/s eta 0:00:01\n",
      "     -----------------                    225.3/472.7 kB 474.7 kB/s eta 0:00:01\n",
      "     -----------------------              307.2/472.7 kB 593.9 kB/s eta 0:00:01\n",
      "     ------------------------             317.4/472.7 kB 561.6 kB/s eta 0:00:01\n",
      "     -------------------------            337.9/472.7 kB 552.6 kB/s eta 0:00:01\n",
      "     ------------------------------       399.4/472.7 kB 608.0 kB/s eta 0:00:01\n",
      "     -------------------------------      409.6/472.7 kB 556.2 kB/s eta 0:00:01\n",
      "     ---------------------------------    440.3/472.7 kB 562.2 kB/s eta 0:00:01\n",
      "     ------------------------------------ 472.7/472.7 kB 569.5 kB/s eta 0:00:00\n",
      "Collecting dnspython<3.0.0,>=1.16.0 (from pymongo)\n",
      "  Downloading dnspython-2.5.0-py3-none-any.whl (305 kB)\n",
      "                                              0.0/305.4 kB ? eta -:--:--\n",
      "     -------------------------------       256.0/305.4 kB 16.4 MB/s eta 0:00:01\n",
      "     -----------------------------------    286.7/305.4 kB 3.5 MB/s eta 0:00:01\n",
      "     -------------------------------------- 305.4/305.4 kB 2.4 MB/s eta 0:00:00\n",
      "Installing collected packages: dnspython, pymongo\n",
      "Successfully installed dnspython-2.5.0 pymongo-4.6.1\n",
      "Note: you may need to restart the kernel to use updated packages.\n"
     ]
    }
   ],
   "source": [
    "#pip install pymongo"
   ]
  },
  {
   "cell_type": "code",
   "execution_count": 8,
   "id": "c07b8af1-0aba-404b-bb32-ed257d04b5b8",
   "metadata": {
    "tags": []
   },
   "outputs": [],
   "source": [
    "import pandas as pd\n",
    "from pymongo import MongoClient\n",
    "from sys import getsizeof\n",
    "from pprint import PrettyPrinter "
   ]
  },
  {
   "cell_type": "code",
   "execution_count": 9,
   "id": "38e2d358-0cab-42d0-80a4-10cb1454095f",
   "metadata": {},
   "outputs": [],
   "source": [
    "pp = PrettyPrinter(indent=2)"
   ]
  },
  {
   "cell_type": "code",
   "execution_count": 10,
   "id": "dd692d27-e6bc-4964-aed2-902f8c0ef1fa",
   "metadata": {
    "tags": []
   },
   "outputs": [],
   "source": [
    "client = MongoClient(host=\"localhost\", port=27017)"
   ]
  },
  {
   "cell_type": "code",
   "execution_count": 11,
   "id": "75a8c5d9-fdf7-4a08-8bab-38799d014969",
   "metadata": {
    "tags": []
   },
   "outputs": [
    {
     "data": {
      "text/plain": [
       "<pymongo.command_cursor.CommandCursor at 0x22fd6ed7f50>"
      ]
     },
     "execution_count": 11,
     "metadata": {},
     "output_type": "execute_result"
    }
   ],
   "source": [
    "#list databases\n",
    "client.list_databases()"
   ]
  },
  {
   "cell_type": "code",
   "execution_count": 13,
   "id": "51349ed1-38a1-4348-a194-19b00ef6976a",
   "metadata": {
    "tags": []
   },
   "outputs": [
    {
     "name": "stdout",
     "output_type": "stream",
     "text": [
      "0\n",
      "1\n",
      "2\n",
      "3\n",
      "4\n",
      "5\n",
      "6\n",
      "7\n",
      "8\n",
      "9\n",
      "10\n",
      "11\n",
      "12\n",
      "13\n",
      "14\n"
     ]
    }
   ],
   "source": [
    "my_list = [0, 1, 2, 3, 4, 5, 6, 7, 8]\n",
    "my_range = range(0,15) #iterater\n",
    "\n",
    "for i in my_range:\n",
    "    print(i)"
   ]
  },
  {
   "cell_type": "code",
   "execution_count": 14,
   "id": "d2b70458-154b-4a95-84b1-916ca0ff906b",
   "metadata": {
    "tags": []
   },
   "outputs": [
    {
     "data": {
      "text/plain": [
       "48"
      ]
     },
     "execution_count": 14,
     "metadata": {},
     "output_type": "execute_result"
    }
   ],
   "source": [
    "getsizeof(my_range)"
   ]
  },
  {
   "cell_type": "code",
   "execution_count": 17,
   "id": "b290d868-3a2d-4dc8-91d1-dbea2d3b2af5",
   "metadata": {
    "tags": []
   },
   "outputs": [
    {
     "name": "stdout",
     "output_type": "stream",
     "text": [
      "[ {'empty': False, 'name': 'admin', 'sizeOnDisk': 40960},\n",
      "  {'empty': False, 'name': 'config', 'sizeOnDisk': 61440},\n",
      "  {'empty': False, 'name': 'local', 'sizeOnDisk': 40960}]\n"
     ]
    }
   ],
   "source": [
    "pp.pprint(list(client.list_databases()))"
   ]
  },
  {
   "cell_type": "code",
   "execution_count": null,
   "id": "b0e1dbca-eac6-418b-b58f-e8cbde77110c",
   "metadata": {},
   "outputs": [],
   "source": [
    "#Figuring out connection with MongoDB"
   ]
  }
 ],
 "metadata": {
  "kernelspec": {
   "display_name": "Python 3 (ipykernel)",
   "language": "python",
   "name": "python3"
  },
  "language_info": {
   "codemirror_mode": {
    "name": "ipython",
    "version": 3
   },
   "file_extension": ".py",
   "mimetype": "text/x-python",
   "name": "python",
   "nbconvert_exporter": "python",
   "pygments_lexer": "ipython3",
   "version": "3.11.3"
  }
 },
 "nbformat": 4,
 "nbformat_minor": 5
}
