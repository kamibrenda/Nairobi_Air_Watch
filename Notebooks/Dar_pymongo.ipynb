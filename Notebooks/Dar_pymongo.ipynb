{
 "cells": [
  {
   "cell_type": "markdown",
   "id": "017391ca-e9ff-4f4c-952a-bc5587bf6ad0",
   "metadata": {},
   "source": [
    "## Importing libraries"
   ]
  },
  {
   "cell_type": "code",
   "execution_count": 2,
   "id": "19124457-6c99-45aa-ac72-8aaffb707beb",
   "metadata": {
    "tags": []
   },
   "outputs": [
    {
     "name": "stdout",
     "output_type": "stream",
     "text": [
      "Requirement already satisfied: pymongo in c:\\users\\admin\\anaconda3\\lib\\site-packages (4.6.1)Note: you may need to restart the kernel to use updated packages.\n",
      "\n",
      "Requirement already satisfied: dnspython<3.0.0,>=1.16.0 in c:\\users\\admin\\anaconda3\\lib\\site-packages (from pymongo) (2.5.0)\n"
     ]
    }
   ],
   "source": [
    "pip install pymongo"
   ]
  },
  {
   "cell_type": "code",
   "execution_count": 3,
   "id": "c07b8af1-0aba-404b-bb32-ed257d04b5b8",
   "metadata": {
    "tags": []
   },
   "outputs": [],
   "source": [
    "import pandas as pd\n",
    "from pymongo import MongoClient\n",
    "from sys import getsizeof\n",
    "from pprint import PrettyPrinter \n",
    "from pprint import pprint\n",
    "from bs4 import BeautifulSoup\n",
    "from urllib.request import urlopen\n",
    "from urllib.error import HTTPError #check for 404 or 500 error\n",
    "from urllib.error import URLError\n",
    "import requests\n",
    "import re"
   ]
  },
  {
   "cell_type": "code",
   "execution_count": 4,
   "id": "38e2d358-0cab-42d0-80a4-10cb1454095f",
   "metadata": {},
   "outputs": [],
   "source": [
    "pp = PrettyPrinter(indent=2)"
   ]
  },
  {
   "cell_type": "code",
   "execution_count": 5,
   "id": "dd692d27-e6bc-4964-aed2-902f8c0ef1fa",
   "metadata": {
    "tags": []
   },
   "outputs": [],
   "source": [
    "client = MongoClient(host=\"localhost\", port=27017)"
   ]
  },
  {
   "cell_type": "code",
   "execution_count": 6,
   "id": "75a8c5d9-fdf7-4a08-8bab-38799d014969",
   "metadata": {
    "tags": []
   },
   "outputs": [
    {
     "data": {
      "text/plain": [
       "<pymongo.command_cursor.CommandCursor at 0x21c14cfdfd0>"
      ]
     },
     "execution_count": 6,
     "metadata": {},
     "output_type": "execute_result"
    }
   ],
   "source": [
    "#list databases\n",
    "client.list_databases()"
   ]
  },
  {
   "cell_type": "code",
   "execution_count": 7,
   "id": "51349ed1-38a1-4348-a194-19b00ef6976a",
   "metadata": {
    "tags": []
   },
   "outputs": [
    {
     "name": "stdout",
     "output_type": "stream",
     "text": [
      "0\n",
      "1\n",
      "2\n",
      "3\n",
      "4\n",
      "5\n",
      "6\n",
      "7\n",
      "8\n",
      "9\n",
      "10\n",
      "11\n",
      "12\n",
      "13\n",
      "14\n"
     ]
    }
   ],
   "source": [
    "my_list = [0, 1, 2, 3, 4, 5, 6, 7, 8]\n",
    "my_range = range(0,15) #iterater\n",
    "\n",
    "for i in my_range:\n",
    "    print(i)"
   ]
  },
  {
   "cell_type": "code",
   "execution_count": 8,
   "id": "d2b70458-154b-4a95-84b1-916ca0ff906b",
   "metadata": {
    "tags": []
   },
   "outputs": [
    {
     "data": {
      "text/plain": [
       "48"
      ]
     },
     "execution_count": 8,
     "metadata": {},
     "output_type": "execute_result"
    }
   ],
   "source": [
    "getsizeof(my_range)"
   ]
  },
  {
   "cell_type": "code",
   "execution_count": 9,
   "id": "b290d868-3a2d-4dc8-91d1-dbea2d3b2af5",
   "metadata": {
    "tags": []
   },
   "outputs": [
    {
     "name": "stdout",
     "output_type": "stream",
     "text": [
      "[ {'empty': False, 'name': 'Dar-Pred', 'sizeOnDisk': 12222464},\n",
      "  {'empty': False, 'name': 'admin', 'sizeOnDisk': 40960},\n",
      "  {'empty': False, 'name': 'config', 'sizeOnDisk': 61440},\n",
      "  {'empty': False, 'name': 'local', 'sizeOnDisk': 73728}]\n"
     ]
    }
   ],
   "source": [
    "pp.pprint(list(client.list_databases()))"
   ]
  },
  {
   "cell_type": "markdown",
   "id": "d7822efe-8226-4edc-9dc7-684c7c3630ba",
   "metadata": {},
   "source": [
    "## Web Scrapping with Py to the data source"
   ]
  },
  {
   "cell_type": "code",
   "execution_count": 10,
   "id": "8c3ab0d2-f3fd-45c9-b5fc-d078d138281e",
   "metadata": {
    "tags": []
   },
   "outputs": [],
   "source": [
    "url = 'https://africaopendata.org/dataset/sensorsafrica-airquality-archive-dar-es-salaam'\n",
    "page = requests.get(url)\n",
    "soup = BeautifulSoup(page.text, 'lxml')\n"
   ]
  },
  {
   "cell_type": "code",
   "execution_count": null,
   "id": "0cd8ed98-f839-4e50-a832-c783245509bc",
   "metadata": {
    "tags": []
   },
   "outputs": [],
   "source": [
    "print(soup)"
   ]
  },
  {
   "cell_type": "code",
   "execution_count": 12,
   "id": "f656f97d-ee43-40c4-99a5-eae8dfd131c9",
   "metadata": {
    "tags": []
   },
   "outputs": [
    {
     "name": "stdout",
     "output_type": "stream",
     "text": [
      "#content\n",
      "/\n",
      "/dataset\n",
      "/organization\n",
      "/groups\n",
      "/about\n",
      "/datarequest\n",
      "/user/login\n",
      "/user/register\n",
      "/\n",
      "/organization\n",
      "/organization/sensors-africa\n",
      "/dataset/sensorsafrica-airquality-archive-dar-es-salaam\n",
      "/dataset/sensorsafrica-airquality-archive-dar-es-salaam\n",
      "/dataset/groups/sensorsafrica-airquality-archive-dar-es-salaam\n",
      "/dataset/activity/sensorsafrica-airquality-archive-dar-es-salaam\n",
      "/dataset/sensorsafrica-airquality-archive-dar-es-salaam/issues\n",
      "/dataset/showcases/sensorsafrica-airquality-archive-dar-es-salaam\n",
      "/dataset/sensorsafrica-airquality-archive-dar-es-salaam/resource/f36663c3-605e-42e9-b80d-9b5ce479dae4\n",
      "/dataset/sensorsafrica-airquality-archive-dar-es-salaam/resource/f36663c3-605e-42e9-b80d-9b5ce479dae4\n",
      "https://openafrica.net/dataset/b2c156b9-2f59-4673-9aaf-02ddda3a3866/resource/f36663c3-605e-42e9-b80d-9b5ce479dae4/download/october_2017_sensor_data_archive.csv\n",
      "/dataset/sensorsafrica-airquality-archive-dar-es-salaam/resource/b140f15f-ab95-4a4f-bd7b-f83d66d84c89\n",
      "/dataset/sensorsafrica-airquality-archive-dar-es-salaam/resource/b140f15f-ab95-4a4f-bd7b-f83d66d84c89\n",
      "https://openafrica.net/dataset/b2c156b9-2f59-4673-9aaf-02ddda3a3866/resource/b140f15f-ab95-4a4f-bd7b-f83d66d84c89/download/november_2017_sensor_data_archive.csv\n",
      "/dataset/sensorsafrica-airquality-archive-dar-es-salaam/resource/c5f65e78-cdef-421a-bef0-935bc9678e5d\n",
      "/dataset/sensorsafrica-airquality-archive-dar-es-salaam/resource/c5f65e78-cdef-421a-bef0-935bc9678e5d\n",
      "https://openafrica.net/dataset/b2c156b9-2f59-4673-9aaf-02ddda3a3866/resource/c5f65e78-cdef-421a-bef0-935bc9678e5d/download/december_2017_sensor_data_archive.csv\n",
      "/dataset/sensorsafrica-airquality-archive-dar-es-salaam/resource/31a38b4f-19cc-4a37-8075-02e69a70078d\n",
      "/dataset/sensorsafrica-airquality-archive-dar-es-salaam/resource/31a38b4f-19cc-4a37-8075-02e69a70078d\n",
      "https://openafrica.net/dataset/b2c156b9-2f59-4673-9aaf-02ddda3a3866/resource/31a38b4f-19cc-4a37-8075-02e69a70078d/download/january_2018_sensor_data_archive.csv\n",
      "/dataset/sensorsafrica-airquality-archive-dar-es-salaam/resource/fee1a1f9-4a88-4b93-be35-6367d37ca388\n",
      "/dataset/sensorsafrica-airquality-archive-dar-es-salaam/resource/fee1a1f9-4a88-4b93-be35-6367d37ca388\n",
      "https://openafrica.net/dataset/b2c156b9-2f59-4673-9aaf-02ddda3a3866/resource/fee1a1f9-4a88-4b93-be35-6367d37ca388/download/february_2018_sensor_data_archive.csv\n",
      "/dataset/sensorsafrica-airquality-archive-dar-es-salaam/resource/26037925-8e92-4c9b-ae3e-68c1c5a779c3\n",
      "/dataset/sensorsafrica-airquality-archive-dar-es-salaam/resource/26037925-8e92-4c9b-ae3e-68c1c5a779c3\n",
      "https://openafrica.net/dataset/b2c156b9-2f59-4673-9aaf-02ddda3a3866/resource/26037925-8e92-4c9b-ae3e-68c1c5a779c3/download/march_2018_sensor_data_archive.csv\n",
      "/dataset/sensorsafrica-airquality-archive-dar-es-salaam/resource/fc84d9fd-0032-4d88-9511-34c37848dddd\n",
      "/dataset/sensorsafrica-airquality-archive-dar-es-salaam/resource/fc84d9fd-0032-4d88-9511-34c37848dddd\n",
      "https://openafrica.net/dataset/b2c156b9-2f59-4673-9aaf-02ddda3a3866/resource/fc84d9fd-0032-4d88-9511-34c37848dddd/download/april_2018_sensor_data_archive.csv\n",
      "/dataset/sensorsafrica-airquality-archive-dar-es-salaam/resource/b1b6c937-4dda-4245-b99c-6129622cc3e3\n",
      "/dataset/sensorsafrica-airquality-archive-dar-es-salaam/resource/b1b6c937-4dda-4245-b99c-6129622cc3e3\n",
      "https://openafrica.net/dataset/b2c156b9-2f59-4673-9aaf-02ddda3a3866/resource/b1b6c937-4dda-4245-b99c-6129622cc3e3/download/may_2018_sensor_data_archive.csv\n",
      "/dataset/sensorsafrica-airquality-archive-dar-es-salaam/resource/0a46210a-76b8-4180-ac7c-3462c0dc7609\n",
      "/dataset/sensorsafrica-airquality-archive-dar-es-salaam/resource/0a46210a-76b8-4180-ac7c-3462c0dc7609\n",
      "https://openafrica.net/dataset/b2c156b9-2f59-4673-9aaf-02ddda3a3866/resource/0a46210a-76b8-4180-ac7c-3462c0dc7609/download/june_2018_sensor_data_archive.csv\n",
      "/dataset/sensorsafrica-airquality-archive-dar-es-salaam/resource/f43ae933-abcc-4a02-89fa-6c5a30ca8b66\n",
      "/dataset/sensorsafrica-airquality-archive-dar-es-salaam/resource/f43ae933-abcc-4a02-89fa-6c5a30ca8b66\n",
      "https://openafrica.net/dataset/b2c156b9-2f59-4673-9aaf-02ddda3a3866/resource/f43ae933-abcc-4a02-89fa-6c5a30ca8b66/download/july_2018_sensor_data_archive.csv\n",
      "/dataset/sensorsafrica-airquality-archive-dar-es-salaam/resource/5d17222e-08b3-4f6b-9888-32db859405cd\n",
      "/dataset/sensorsafrica-airquality-archive-dar-es-salaam/resource/5d17222e-08b3-4f6b-9888-32db859405cd\n",
      "https://openafrica.net/dataset/b2c156b9-2f59-4673-9aaf-02ddda3a3866/resource/5d17222e-08b3-4f6b-9888-32db859405cd/download/august_2018_sensor_data_archive.csv\n",
      "/dataset/sensorsafrica-airquality-archive-dar-es-salaam/resource/d4d7ec6f-7ddf-47b7-a2ef-ac422eab6d9f\n",
      "/dataset/sensorsafrica-airquality-archive-dar-es-salaam/resource/d4d7ec6f-7ddf-47b7-a2ef-ac422eab6d9f\n",
      "https://openafrica.net/dataset/b2c156b9-2f59-4673-9aaf-02ddda3a3866/resource/d4d7ec6f-7ddf-47b7-a2ef-ac422eab6d9f/download/september_2018_sensor_data_archive.csv\n",
      "/dataset/sensorsafrica-airquality-archive-dar-es-salaam/resource/41b95ba3-797b-4b48-a0bb-76322faa4bca\n",
      "/dataset/sensorsafrica-airquality-archive-dar-es-salaam/resource/41b95ba3-797b-4b48-a0bb-76322faa4bca\n",
      "https://openafrica.net/dataset/b2c156b9-2f59-4673-9aaf-02ddda3a3866/resource/41b95ba3-797b-4b48-a0bb-76322faa4bca/download/october_2018_sensor_data_archive.csv\n",
      "/dataset/sensorsafrica-airquality-archive-dar-es-salaam/resource/eaae4880-89b9-4711-a9f0-deadf933ba23\n",
      "/dataset/sensorsafrica-airquality-archive-dar-es-salaam/resource/eaae4880-89b9-4711-a9f0-deadf933ba23\n",
      "https://openafrica.net/dataset/b2c156b9-2f59-4673-9aaf-02ddda3a3866/resource/eaae4880-89b9-4711-a9f0-deadf933ba23/download/november_2018_sensor_data_archive.csv\n",
      "/dataset/sensorsafrica-airquality-archive-dar-es-salaam/resource/80d1bce7-437b-4dc1-8d78-887f9540ffbe\n",
      "/dataset/sensorsafrica-airquality-archive-dar-es-salaam/resource/80d1bce7-437b-4dc1-8d78-887f9540ffbe\n",
      "https://openafrica.net/dataset/b2c156b9-2f59-4673-9aaf-02ddda3a3866/resource/80d1bce7-437b-4dc1-8d78-887f9540ffbe/download/december_2018_sensor_data_archive.csv\n",
      "/dataset/sensorsafrica-airquality-archive-dar-es-salaam/resource/fa86f84b-97c1-40f4-9a61-400c80b22306\n",
      "/dataset/sensorsafrica-airquality-archive-dar-es-salaam/resource/fa86f84b-97c1-40f4-9a61-400c80b22306\n",
      "https://openafrica.net/dataset/b2c156b9-2f59-4673-9aaf-02ddda3a3866/resource/fa86f84b-97c1-40f4-9a61-400c80b22306/download/january_2019_sensor_data_archive.csv\n",
      "/dataset/sensorsafrica-airquality-archive-dar-es-salaam/resource/1e7aa84a-5793-4a7e-87ae-d02fbf7a27ec\n",
      "/dataset/sensorsafrica-airquality-archive-dar-es-salaam/resource/1e7aa84a-5793-4a7e-87ae-d02fbf7a27ec\n",
      "https://openafrica.net/dataset/b2c156b9-2f59-4673-9aaf-02ddda3a3866/resource/1e7aa84a-5793-4a7e-87ae-d02fbf7a27ec/download/february_2019_sensor_data_archive.csv\n",
      "/dataset/sensorsafrica-airquality-archive-dar-es-salaam/resource/e9930440-0c3a-4e95-8948-e8e142bf305f\n",
      "/dataset/sensorsafrica-airquality-archive-dar-es-salaam/resource/e9930440-0c3a-4e95-8948-e8e142bf305f\n",
      "https://openafrica.net/dataset/b2c156b9-2f59-4673-9aaf-02ddda3a3866/resource/e9930440-0c3a-4e95-8948-e8e142bf305f/download/march_2019_sensor_data_archive.csv\n",
      "/dataset/sensorsafrica-airquality-archive-dar-es-salaam/resource/df4b214a-1b59-46f9-a832-3119861f2e91\n",
      "/dataset/sensorsafrica-airquality-archive-dar-es-salaam/resource/df4b214a-1b59-46f9-a832-3119861f2e91\n",
      "https://openafrica.net/dataset/b2c156b9-2f59-4673-9aaf-02ddda3a3866/resource/df4b214a-1b59-46f9-a832-3119861f2e91/download/april_2019_sensor_data_archive.csv\n",
      "/dataset/sensorsafrica-airquality-archive-dar-es-salaam/resource/82454ab8-b0ca-4c5e-9a59-4da49141da87\n",
      "/dataset/sensorsafrica-airquality-archive-dar-es-salaam/resource/82454ab8-b0ca-4c5e-9a59-4da49141da87\n",
      "https://openafrica.net/dataset/b2c156b9-2f59-4673-9aaf-02ddda3a3866/resource/82454ab8-b0ca-4c5e-9a59-4da49141da87/download/may_2019_sensor_data_archive.csv\n",
      "/dataset/sensorsafrica-airquality-archive-dar-es-salaam/resource/ad5db7a8-a5ea-47dc-a2a2-0714c480927b\n",
      "/dataset/sensorsafrica-airquality-archive-dar-es-salaam/resource/ad5db7a8-a5ea-47dc-a2a2-0714c480927b\n",
      "https://openafrica.net/dataset/b2c156b9-2f59-4673-9aaf-02ddda3a3866/resource/ad5db7a8-a5ea-47dc-a2a2-0714c480927b/download/june_2019_sensor_data_archive.csv\n",
      "/dataset/sensorsafrica-airquality-archive-dar-es-salaam/resource/723261bd-6412-4215-b94c-6f19c0c80bea\n",
      "/dataset/sensorsafrica-airquality-archive-dar-es-salaam/resource/723261bd-6412-4215-b94c-6f19c0c80bea\n",
      "https://openafrica.net/dataset/b2c156b9-2f59-4673-9aaf-02ddda3a3866/resource/723261bd-6412-4215-b94c-6f19c0c80bea/download/tmp3rz_bkxu.csv\n",
      "/cdn-cgi/l/email-protection#bdced8d3ced2cfcefdded2d9d8dbd2cfdcdbcfd4dedc93d2cfda\n",
      "/cdn-cgi/l/email-protection#097c7a646867496a666d6c6f667b686f7b606a6827667b6e\n",
      "/organization/sensors-africa\n",
      "/organization/about/sensors-africa\n",
      "https://twitter.com/share?url=https://openafrica.net/dataset/sensorsafrica-airquality-archive-dar-es-salaam\n",
      "https://www.facebook.com/sharer.php?u=https://openafrica.net/dataset/sensorsafrica-airquality-archive-dar-es-salaam\n",
      "http://www.opendefinition.org/licenses/cc-by\n",
      "http://opendefinition.org/okd/\n",
      "https://twitter.com/Code4Africa\n",
      "https://code4africa.slack.com/\n",
      "https://www.linkedin.com/company/code-for-africa\n",
      "https://www.facebook.com/CodeForAfrica/\n",
      "https://www.instagram.com/codeforafrica__/\n",
      "https://www.github.com/codeforafrica\n",
      "/about/faq\n",
      "http://docs.ckan.org/en/2.8/api/\n",
      "/about/contact-us\n",
      "/#collaborators\n",
      "#\n",
      "/about/privacy\n",
      "/about\n",
      "/about/contact-us\n",
      "/about/code-of-conduct\n",
      "/about/terms-and-conditions\n"
     ]
    }
   ],
   "source": [
    "# Find all 'a' tags with the 'href' attribute\n",
    "for link in soup.find_all('a', href=True):\n",
    "    print(link['href'])"
   ]
  },
  {
   "cell_type": "code",
   "execution_count": 13,
   "id": "d5274068-8047-4537-8ea3-8af23b837680",
   "metadata": {
    "tags": []
   },
   "outputs": [
    {
     "name": "stdout",
     "output_type": "stream",
     "text": [
      "https://openafrica.net/dataset/b2c156b9-2f59-4673-9aaf-02ddda3a3866/resource/f36663c3-605e-42e9-b80d-9b5ce479dae4/download/october_2017_sensor_data_archive.csv\n",
      "https://openafrica.net/dataset/b2c156b9-2f59-4673-9aaf-02ddda3a3866/resource/b140f15f-ab95-4a4f-bd7b-f83d66d84c89/download/november_2017_sensor_data_archive.csv\n",
      "https://openafrica.net/dataset/b2c156b9-2f59-4673-9aaf-02ddda3a3866/resource/c5f65e78-cdef-421a-bef0-935bc9678e5d/download/december_2017_sensor_data_archive.csv\n",
      "https://openafrica.net/dataset/b2c156b9-2f59-4673-9aaf-02ddda3a3866/resource/31a38b4f-19cc-4a37-8075-02e69a70078d/download/january_2018_sensor_data_archive.csv\n",
      "https://openafrica.net/dataset/b2c156b9-2f59-4673-9aaf-02ddda3a3866/resource/fee1a1f9-4a88-4b93-be35-6367d37ca388/download/february_2018_sensor_data_archive.csv\n",
      "https://openafrica.net/dataset/b2c156b9-2f59-4673-9aaf-02ddda3a3866/resource/26037925-8e92-4c9b-ae3e-68c1c5a779c3/download/march_2018_sensor_data_archive.csv\n",
      "https://openafrica.net/dataset/b2c156b9-2f59-4673-9aaf-02ddda3a3866/resource/fc84d9fd-0032-4d88-9511-34c37848dddd/download/april_2018_sensor_data_archive.csv\n",
      "https://openafrica.net/dataset/b2c156b9-2f59-4673-9aaf-02ddda3a3866/resource/b1b6c937-4dda-4245-b99c-6129622cc3e3/download/may_2018_sensor_data_archive.csv\n",
      "https://openafrica.net/dataset/b2c156b9-2f59-4673-9aaf-02ddda3a3866/resource/0a46210a-76b8-4180-ac7c-3462c0dc7609/download/june_2018_sensor_data_archive.csv\n",
      "https://openafrica.net/dataset/b2c156b9-2f59-4673-9aaf-02ddda3a3866/resource/f43ae933-abcc-4a02-89fa-6c5a30ca8b66/download/july_2018_sensor_data_archive.csv\n",
      "https://openafrica.net/dataset/b2c156b9-2f59-4673-9aaf-02ddda3a3866/resource/5d17222e-08b3-4f6b-9888-32db859405cd/download/august_2018_sensor_data_archive.csv\n",
      "https://openafrica.net/dataset/b2c156b9-2f59-4673-9aaf-02ddda3a3866/resource/d4d7ec6f-7ddf-47b7-a2ef-ac422eab6d9f/download/september_2018_sensor_data_archive.csv\n",
      "https://openafrica.net/dataset/b2c156b9-2f59-4673-9aaf-02ddda3a3866/resource/41b95ba3-797b-4b48-a0bb-76322faa4bca/download/october_2018_sensor_data_archive.csv\n",
      "https://openafrica.net/dataset/b2c156b9-2f59-4673-9aaf-02ddda3a3866/resource/eaae4880-89b9-4711-a9f0-deadf933ba23/download/november_2018_sensor_data_archive.csv\n",
      "https://openafrica.net/dataset/b2c156b9-2f59-4673-9aaf-02ddda3a3866/resource/80d1bce7-437b-4dc1-8d78-887f9540ffbe/download/december_2018_sensor_data_archive.csv\n",
      "https://openafrica.net/dataset/b2c156b9-2f59-4673-9aaf-02ddda3a3866/resource/fa86f84b-97c1-40f4-9a61-400c80b22306/download/january_2019_sensor_data_archive.csv\n",
      "https://openafrica.net/dataset/b2c156b9-2f59-4673-9aaf-02ddda3a3866/resource/1e7aa84a-5793-4a7e-87ae-d02fbf7a27ec/download/february_2019_sensor_data_archive.csv\n",
      "https://openafrica.net/dataset/b2c156b9-2f59-4673-9aaf-02ddda3a3866/resource/e9930440-0c3a-4e95-8948-e8e142bf305f/download/march_2019_sensor_data_archive.csv\n",
      "https://openafrica.net/dataset/b2c156b9-2f59-4673-9aaf-02ddda3a3866/resource/df4b214a-1b59-46f9-a832-3119861f2e91/download/april_2019_sensor_data_archive.csv\n",
      "https://openafrica.net/dataset/b2c156b9-2f59-4673-9aaf-02ddda3a3866/resource/82454ab8-b0ca-4c5e-9a59-4da49141da87/download/may_2019_sensor_data_archive.csv\n",
      "https://openafrica.net/dataset/b2c156b9-2f59-4673-9aaf-02ddda3a3866/resource/ad5db7a8-a5ea-47dc-a2a2-0714c480927b/download/june_2019_sensor_data_archive.csv\n",
      "https://openafrica.net/dataset/b2c156b9-2f59-4673-9aaf-02ddda3a3866/resource/723261bd-6412-4215-b94c-6f19c0c80bea/download/tmp3rz_bkxu.csv\n"
     ]
    }
   ],
   "source": [
    "# Function to fetch webpage content\n",
    "def fetch_webpage(url):\n",
    "    response = requests.get(url)\n",
    "    return response.content\n",
    "\n",
    "# Function to extract URLs from HTML content\n",
    "def extract_urls(html_content):\n",
    "    soup = BeautifulSoup(html_content, 'html.parser')\n",
    "    links = soup.find_all('a', href=True)\n",
    "    return [link['href'] for link in links]\n",
    "\n",
    "# Function to filter URLs containing .csv\n",
    "def filter_csv_urls(urls):\n",
    "    csv_urls = []\n",
    "    for url in urls:\n",
    "        if re.search(r'\\.csv$', url):\n",
    "            csv_urls.append(url)\n",
    "    return csv_urls\n",
    "\n",
    "# Main function\n",
    "def main():\n",
    "    # Replace 'your_url_here' with the URL you want to scrape\n",
    "    url = 'https://africaopendata.org/dataset/sensorsafrica-airquality-archive-dar-es-salaam'\n",
    "    html_content = fetch_webpage(url)\n",
    "    urls = extract_urls(html_content)\n",
    "    csv_urls = filter_csv_urls(urls)\n",
    "    \n",
    "    # Now you have csv_urls containing only the URLs with .csv extension\n",
    "    for csv_url in csv_urls:\n",
    "        print(csv_url)\n",
    "\n",
    "if __name__ == \"__main__\":\n",
    "    main()\n"
   ]
  },
  {
   "cell_type": "code",
   "execution_count": 14,
   "id": "3ae1e3a4-561b-4170-a43e-ea2cec074ce0",
   "metadata": {},
   "outputs": [],
   "source": [
    "dba = client.get_database(\"Dar-Pred\")"
   ]
  },
  {
   "cell_type": "code",
   "execution_count": 17,
   "id": "d126ef06-98a0-4bfa-b960-631eaa9bc054",
   "metadata": {
    "tags": []
   },
   "outputs": [
    {
     "name": "stdout",
     "output_type": "stream",
     "text": [
      "Nov-2017\n",
      "Oct-2017\n"
     ]
    }
   ],
   "source": [
    "for c in dba.list_collections():\n",
    "\tprint(c[\"name\"])"
   ]
  },
  {
   "cell_type": "code",
   "execution_count": 19,
   "id": "ffe2d963-8ef6-4d7d-9116-b427d6c9ebd0",
   "metadata": {},
   "outputs": [],
   "source": [
    "Nov = dba[\"Nov-2017\"]"
   ]
  },
  {
   "cell_type": "code",
   "execution_count": 24,
   "id": "5132bcbb-d0fc-4201-aed0-20f0c679ffeb",
   "metadata": {
    "tags": []
   },
   "outputs": [
    {
     "data": {
      "text/plain": [
       "183508"
      ]
     },
     "execution_count": 24,
     "metadata": {},
     "output_type": "execute_result"
    }
   ],
   "source": [
    "Nov.count_documents({})"
   ]
  },
  {
   "cell_type": "code",
   "execution_count": null,
   "id": "b38dca05-f494-4b20-b0d9-f951fdd85727",
   "metadata": {},
   "outputs": [],
   "source": []
  }
 ],
 "metadata": {
  "kernelspec": {
   "display_name": "Python 3 (ipykernel)",
   "language": "python",
   "name": "python3"
  },
  "language_info": {
   "codemirror_mode": {
    "name": "ipython",
    "version": 3
   },
   "file_extension": ".py",
   "mimetype": "text/x-python",
   "name": "python",
   "nbconvert_exporter": "python",
   "pygments_lexer": "ipython3",
   "version": "3.11.3"
  }
 },
 "nbformat": 4,
 "nbformat_minor": 5
}
