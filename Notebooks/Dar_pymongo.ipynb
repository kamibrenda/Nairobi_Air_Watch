{
 "cells": [
  {
   "cell_type": "markdown",
   "id": "017391ca-e9ff-4f4c-952a-bc5587bf6ad0",
   "metadata": {},
   "source": [
    "## Importing libraries"
   ]
  },
  {
   "cell_type": "code",
   "execution_count": 1,
   "id": "19124457-6c99-45aa-ac72-8aaffb707beb",
   "metadata": {
    "tags": []
   },
   "outputs": [],
   "source": [
    "#pip install pymongo"
   ]
  },
  {
   "cell_type": "code",
   "execution_count": 13,
   "id": "c07b8af1-0aba-404b-bb32-ed257d04b5b8",
   "metadata": {
    "tags": []
   },
   "outputs": [],
   "source": [
    "import pandas as pd\n",
    "from pymongo import MongoClient\n",
    "from sys import getsizeof\n",
    "from pprint import PrettyPrinter \n",
    "from pprint import pprint\n",
    "from bs4 import BeautifulSoup\n",
    "from urllib.request import urlopen\n",
    "from urllib.error import HTTPError #check for 404 or 500 error\n",
    "from urllib.error import URLError\n",
    "import requests\n",
    "import re"
   ]
  },
  {
   "cell_type": "code",
   "execution_count": 14,
   "id": "38e2d358-0cab-42d0-80a4-10cb1454095f",
   "metadata": {},
   "outputs": [],
   "source": [
    "pp = PrettyPrinter(indent=2)"
   ]
  },
  {
   "cell_type": "code",
   "execution_count": 15,
   "id": "dd692d27-e6bc-4964-aed2-902f8c0ef1fa",
   "metadata": {
    "tags": []
   },
   "outputs": [],
   "source": [
    "client = MongoClient(host=\"localhost\", port=27017)"
   ]
  },
  {
   "cell_type": "code",
   "execution_count": 17,
   "id": "75a8c5d9-fdf7-4a08-8bab-38799d014969",
   "metadata": {
    "tags": []
   },
   "outputs": [
    {
     "data": {
      "text/plain": [
       "<pymongo.command_cursor.CommandCursor at 0x27f0caf0f50>"
      ]
     },
     "execution_count": 17,
     "metadata": {},
     "output_type": "execute_result"
    }
   ],
   "source": [
    "#list databases\n",
    "client.list_databases()"
   ]
  },
  {
   "cell_type": "code",
   "execution_count": 6,
   "id": "51349ed1-38a1-4348-a194-19b00ef6976a",
   "metadata": {
    "tags": []
   },
   "outputs": [
    {
     "name": "stdout",
     "output_type": "stream",
     "text": [
      "0\n",
      "1\n",
      "2\n",
      "3\n",
      "4\n",
      "5\n",
      "6\n",
      "7\n",
      "8\n",
      "9\n",
      "10\n",
      "11\n",
      "12\n",
      "13\n",
      "14\n"
     ]
    }
   ],
   "source": [
    "my_list = [0, 1, 2, 3, 4, 5, 6, 7, 8]\n",
    "my_range = range(0,15) #iterater\n",
    "\n",
    "for i in my_range:\n",
    "    print(i)"
   ]
  },
  {
   "cell_type": "code",
   "execution_count": 7,
   "id": "d2b70458-154b-4a95-84b1-916ca0ff906b",
   "metadata": {
    "tags": []
   },
   "outputs": [
    {
     "data": {
      "text/plain": [
       "48"
      ]
     },
     "execution_count": 7,
     "metadata": {},
     "output_type": "execute_result"
    }
   ],
   "source": [
    "getsizeof(my_range)"
   ]
  },
  {
   "cell_type": "code",
   "execution_count": 18,
   "id": "b290d868-3a2d-4dc8-91d1-dbea2d3b2af5",
   "metadata": {
    "tags": []
   },
   "outputs": [
    {
     "name": "stdout",
     "output_type": "stream",
     "text": [
      "[ {'empty': False, 'name': 'admin', 'sizeOnDisk': 40960},\n",
      "  {'empty': False, 'name': 'config', 'sizeOnDisk': 110592},\n",
      "  {'empty': False, 'name': 'local', 'sizeOnDisk': 73728}]\n"
     ]
    }
   ],
   "source": [
    "pp.pprint(list(client.list_databases()))"
   ]
  },
  {
   "cell_type": "markdown",
   "id": "d7822efe-8226-4edc-9dc7-684c7c3630ba",
   "metadata": {},
   "source": [
    "## Web Scrapping with Py to the data source"
   ]
  },
  {
   "cell_type": "code",
   "execution_count": 9,
   "id": "8c3ab0d2-f3fd-45c9-b5fc-d078d138281e",
   "metadata": {
    "tags": []
   },
   "outputs": [],
   "source": [
    "url = 'https://africaopendata.org/dataset/sensorsafrica-airquality-archive-dar-es-salaam'\n",
    "page = requests.get(url)\n",
    "soup = BeautifulSoup(page.text, 'lxml')\n"
   ]
  },
  {
   "cell_type": "code",
   "execution_count": null,
   "id": "0cd8ed98-f839-4e50-a832-c783245509bc",
   "metadata": {
    "tags": []
   },
   "outputs": [],
   "source": [
    "print(soup)"
   ]
  },
  {
   "cell_type": "code",
   "execution_count": null,
   "id": "f656f97d-ee43-40c4-99a5-eae8dfd131c9",
   "metadata": {
    "tags": []
   },
   "outputs": [],
   "source": [
    "# Find all 'a' tags with the 'href' attribute\n",
    "for link in soup.find_all('a', href=True):\n",
    "    print(link['href'])"
   ]
  },
  {
   "cell_type": "code",
   "execution_count": 12,
   "id": "d5274068-8047-4537-8ea3-8af23b837680",
   "metadata": {
    "tags": []
   },
   "outputs": [
    {
     "name": "stdout",
     "output_type": "stream",
     "text": [
      "https://openafrica.net/dataset/b2c156b9-2f59-4673-9aaf-02ddda3a3866/resource/f36663c3-605e-42e9-b80d-9b5ce479dae4/download/october_2017_sensor_data_archive.csv\n",
      "https://openafrica.net/dataset/b2c156b9-2f59-4673-9aaf-02ddda3a3866/resource/b140f15f-ab95-4a4f-bd7b-f83d66d84c89/download/november_2017_sensor_data_archive.csv\n",
      "https://openafrica.net/dataset/b2c156b9-2f59-4673-9aaf-02ddda3a3866/resource/c5f65e78-cdef-421a-bef0-935bc9678e5d/download/december_2017_sensor_data_archive.csv\n",
      "https://openafrica.net/dataset/b2c156b9-2f59-4673-9aaf-02ddda3a3866/resource/31a38b4f-19cc-4a37-8075-02e69a70078d/download/january_2018_sensor_data_archive.csv\n",
      "https://openafrica.net/dataset/b2c156b9-2f59-4673-9aaf-02ddda3a3866/resource/fee1a1f9-4a88-4b93-be35-6367d37ca388/download/february_2018_sensor_data_archive.csv\n",
      "https://openafrica.net/dataset/b2c156b9-2f59-4673-9aaf-02ddda3a3866/resource/26037925-8e92-4c9b-ae3e-68c1c5a779c3/download/march_2018_sensor_data_archive.csv\n",
      "https://openafrica.net/dataset/b2c156b9-2f59-4673-9aaf-02ddda3a3866/resource/fc84d9fd-0032-4d88-9511-34c37848dddd/download/april_2018_sensor_data_archive.csv\n",
      "https://openafrica.net/dataset/b2c156b9-2f59-4673-9aaf-02ddda3a3866/resource/b1b6c937-4dda-4245-b99c-6129622cc3e3/download/may_2018_sensor_data_archive.csv\n",
      "https://openafrica.net/dataset/b2c156b9-2f59-4673-9aaf-02ddda3a3866/resource/0a46210a-76b8-4180-ac7c-3462c0dc7609/download/june_2018_sensor_data_archive.csv\n",
      "https://openafrica.net/dataset/b2c156b9-2f59-4673-9aaf-02ddda3a3866/resource/f43ae933-abcc-4a02-89fa-6c5a30ca8b66/download/july_2018_sensor_data_archive.csv\n",
      "https://openafrica.net/dataset/b2c156b9-2f59-4673-9aaf-02ddda3a3866/resource/5d17222e-08b3-4f6b-9888-32db859405cd/download/august_2018_sensor_data_archive.csv\n",
      "https://openafrica.net/dataset/b2c156b9-2f59-4673-9aaf-02ddda3a3866/resource/d4d7ec6f-7ddf-47b7-a2ef-ac422eab6d9f/download/september_2018_sensor_data_archive.csv\n",
      "https://openafrica.net/dataset/b2c156b9-2f59-4673-9aaf-02ddda3a3866/resource/41b95ba3-797b-4b48-a0bb-76322faa4bca/download/october_2018_sensor_data_archive.csv\n",
      "https://openafrica.net/dataset/b2c156b9-2f59-4673-9aaf-02ddda3a3866/resource/eaae4880-89b9-4711-a9f0-deadf933ba23/download/november_2018_sensor_data_archive.csv\n",
      "https://openafrica.net/dataset/b2c156b9-2f59-4673-9aaf-02ddda3a3866/resource/80d1bce7-437b-4dc1-8d78-887f9540ffbe/download/december_2018_sensor_data_archive.csv\n",
      "https://openafrica.net/dataset/b2c156b9-2f59-4673-9aaf-02ddda3a3866/resource/fa86f84b-97c1-40f4-9a61-400c80b22306/download/january_2019_sensor_data_archive.csv\n",
      "https://openafrica.net/dataset/b2c156b9-2f59-4673-9aaf-02ddda3a3866/resource/1e7aa84a-5793-4a7e-87ae-d02fbf7a27ec/download/february_2019_sensor_data_archive.csv\n",
      "https://openafrica.net/dataset/b2c156b9-2f59-4673-9aaf-02ddda3a3866/resource/e9930440-0c3a-4e95-8948-e8e142bf305f/download/march_2019_sensor_data_archive.csv\n",
      "https://openafrica.net/dataset/b2c156b9-2f59-4673-9aaf-02ddda3a3866/resource/df4b214a-1b59-46f9-a832-3119861f2e91/download/april_2019_sensor_data_archive.csv\n",
      "https://openafrica.net/dataset/b2c156b9-2f59-4673-9aaf-02ddda3a3866/resource/82454ab8-b0ca-4c5e-9a59-4da49141da87/download/may_2019_sensor_data_archive.csv\n",
      "https://openafrica.net/dataset/b2c156b9-2f59-4673-9aaf-02ddda3a3866/resource/ad5db7a8-a5ea-47dc-a2a2-0714c480927b/download/june_2019_sensor_data_archive.csv\n",
      "https://openafrica.net/dataset/b2c156b9-2f59-4673-9aaf-02ddda3a3866/resource/723261bd-6412-4215-b94c-6f19c0c80bea/download/tmpgi2v65kz.csv\n"
     ]
    }
   ],
   "source": [
    "# Function to fetch webpage content\n",
    "def fetch_webpage(url):\n",
    "    response = requests.get(url)\n",
    "    return response.content\n",
    "\n",
    "# Function to extract URLs from HTML content\n",
    "def extract_urls(html_content):\n",
    "    soup = BeautifulSoup(html_content, 'html.parser')\n",
    "    links = soup.find_all('a', href=True)\n",
    "    return [link['href'] for link in links]\n",
    "\n",
    "# Function to filter URLs containing .csv\n",
    "def filter_csv_urls(urls):\n",
    "    csv_urls = []\n",
    "    for url in urls:\n",
    "        if re.search(r'\\.csv$', url):\n",
    "            csv_urls.append(url)\n",
    "    return csv_urls\n",
    "\n",
    "# Main function\n",
    "def main():\n",
    "    # Replace 'your_url_here' with the URL you want to scrape\n",
    "    url = 'https://africaopendata.org/dataset/sensorsafrica-airquality-archive-dar-es-salaam'\n",
    "    html_content = fetch_webpage(url)\n",
    "    urls = extract_urls(html_content)\n",
    "    csv_urls = filter_csv_urls(urls)\n",
    "    \n",
    "    # Now you have csv_urls containing only the URLs with .csv extension\n",
    "    for csv_url in csv_urls:\n",
    "        print(csv_url)\n",
    "\n",
    "if __name__ == \"__main__\":\n",
    "    main()\n"
   ]
  },
  {
   "cell_type": "code",
   "execution_count": 22,
   "id": "3ae1e3a4-561b-4170-a43e-ea2cec074ce0",
   "metadata": {},
   "outputs": [],
   "source": [
    "dba = client.get_database(\"nairobidb\")"
   ]
  },
  {
   "cell_type": "code",
   "execution_count": 24,
   "id": "d126ef06-98a0-4bfa-b960-631eaa9bc054",
   "metadata": {
    "tags": []
   },
   "outputs": [
    {
     "name": "stdout",
     "output_type": "stream",
     "text": [
      "['admin', 'config', 'local']\n"
     ]
    }
   ],
   "source": [
    "# Retrieve the list of database names\n",
    "databases = client.list_database_names()\n",
    "\n",
    "# Print the list of database names\n",
    "print(databases)"
   ]
  },
  {
   "cell_type": "code",
   "execution_count": null,
   "id": "ffe2d963-8ef6-4d7d-9116-b427d6c9ebd0",
   "metadata": {},
   "outputs": [],
   "source": []
  }
 ],
 "metadata": {
  "kernelspec": {
   "display_name": "Python 3 (ipykernel)",
   "language": "python",
   "name": "python3"
  },
  "language_info": {
   "codemirror_mode": {
    "name": "ipython",
    "version": 3
   },
   "file_extension": ".py",
   "mimetype": "text/x-python",
   "name": "python",
   "nbconvert_exporter": "python",
   "pygments_lexer": "ipython3",
   "version": "3.11.3"
  }
 },
 "nbformat": 4,
 "nbformat_minor": 5
}
